{
 "cells": [
  {
   "cell_type": "markdown",
   "metadata": {},
   "source": [
    "Exercise 1. Print out if 25 multiplied by 54 is bigger than 33 multipled by 33"
   ]
  },
  {
   "cell_type": "code",
   "execution_count": 2,
   "metadata": {},
   "outputs": [
    {
     "name": "stdout",
     "output_type": "stream",
     "text": [
      "25 x 54 is greater than 33 x 33\n"
     ]
    }
   ],
   "source": [
    "if (25*54) > (33*33) :\n",
    "    print(f\"25 x 54 is greater than 33 x 33\")\n",
    "else :\n",
    "    print(f\"25 x 54 is not greater than 33 x 33\")"
   ]
  },
  {
   "cell_type": "markdown",
   "metadata": {},
   "source": [
    "Exercise 2. Write a function called favorite_book() that accepts one parameter, title. The function should print a message, such as 'One of my favorite books is Alice in Wonderland.' Call the function, making sure to include a book title as an argument in the function call."
   ]
  },
  {
   "cell_type": "code",
   "execution_count": 3,
   "metadata": {},
   "outputs": [
    {
     "name": "stdout",
     "output_type": "stream",
     "text": [
      "What is the title of your favorite books? Alice in Wonderland\n",
      "One of my favorite books is \"Alice in Wonderland\"\n"
     ]
    }
   ],
   "source": [
    "def favorite_book(title) :\n",
    "    print(f\"One of my favorite books is \\\"{title}\\\".\")\n",
    "\n",
    "title = input(\"What is the title of your favorite books? \")\n",
    "favorite_book(title)"
   ]
  },
  {
   "cell_type": "markdown",
   "metadata": {},
   "source": [
    "Exercise 3. Write a function called multiply_two() that accepts two parameters. The function should print a meesage like '15 + 2 = 17'.  Randomly generate two numbers between 1 and 100, then call the function with the two random numbers."
   ]
  },
  {
   "cell_type": "code",
   "execution_count": 6,
   "metadata": {},
   "outputs": [
    {
     "name": "stdout",
     "output_type": "stream",
     "text": [
      "16 + 94 = 110.\n"
     ]
    }
   ],
   "source": [
    "import random as rand\n",
    "\n",
    "def multiply_two(param_one, param_two) :\n",
    "    print(f\"{param_one} + {param_two} = {param_one+param_two}.\")\n",
    "\n",
    "rand_one = rand.randint(1,100)\n",
    "rand_two = rand.randint(1,100)\n",
    "multiply_two(rand_one, rand_two)"
   ]
  },
  {
   "cell_type": "markdown",
   "metadata": {},
   "source": [
    "Exercise 4: Write a function called make_shirt() that accepts a size and the text of a message. The function should print a sentence summarizing the size of the shirt and the message printed on it. The default shirt size is large and default message is 'I love Python!' Make a large shirt and a medium shirt with the default message, and a shirt of any size with a different message."
   ]
  },
  {
   "cell_type": "code",
   "execution_count": 16,
   "metadata": {},
   "outputs": [
    {
     "name": "stdout",
     "output_type": "stream",
     "text": [
      "========================================\n",
      "Summary of Order:\n",
      "\n",
      "Shirt Size:\tLarge\n",
      "Shirt Message:\tI love Python!\n",
      "========================================\n",
      "========================================\n",
      "Summary of Order:\n",
      "\n",
      "Shirt Size:\tMedium\n",
      "Shirt Message:\tI love Python!\n",
      "========================================\n",
      "========================================\n",
      "Summary of Order:\n",
      "\n",
      "Shirt Size:\tSmall\n",
      "Shirt Message:\tHakuna Matata!\n",
      "========================================\n"
     ]
    }
   ],
   "source": [
    "def make_shirt(size=\"large\", message=\"I love Python!\") :\n",
    "    print(\"=\" * 40)\n",
    "    print(\"Summary of Order:\\n\")\n",
    "    print(f\"Shirt Size:\\t{size.capitalize()}\")\n",
    "    print(f\"Shirt Message:\\t{message}\")\n",
    "    print(\"=\" * 40)\n",
    "    \n",
    "make_shirt(\"large\")\n",
    "make_shirt(\"medium\")\n",
    "make_shirt(message=\"Hakuna Matata!\",size=\"small\")"
   ]
  },
  {
   "cell_type": "markdown",
   "metadata": {},
   "source": [
    "Exercise 5. Ask for a color and store that answer. \n",
    "If the answer is grey then print out you found Victor's favorite color.\n",
    "Otherwise print out the color is not Victor's favorite color."
   ]
  },
  {
   "cell_type": "code",
   "execution_count": 22,
   "metadata": {},
   "outputs": [
    {
     "name": "stdout",
     "output_type": "stream",
     "text": [
      "Please input a color: blue\n",
      "Blue is not Victor's favorite color.\n"
     ]
    }
   ],
   "source": [
    "color = input(\"Please input a color: \")\n",
    "\n",
    "if color == \"grey\" :\n",
    "    print(f\"You found Victor's favorite color, {color}.\")\n",
    "else :\n",
    "    print(f\"{color.capitalize()} is not Victor's favorite color.\")"
   ]
  },
  {
   "cell_type": "markdown",
   "metadata": {},
   "source": [
    "Exercise 6. Modify code from exercise #2 and add in more conditions for other colors such as red, green, blue and write statements for them. "
   ]
  },
  {
   "cell_type": "code",
   "execution_count": 24,
   "metadata": {},
   "outputs": [
    {
     "name": "stdout",
     "output_type": "stream",
     "text": [
      "Please input a color: blue\n",
      "That is Sam's favorite color, blue.\n"
     ]
    }
   ],
   "source": [
    "# I'm assuming that the instructions is a mistake in referencing exercise 2 instead of exercise 5\n",
    "# and that you're looking for the usage of else-if (elif).\n",
    "\n",
    "color = input(\"Please input a color: \")\n",
    "\n",
    "if color == \"grey\" :\n",
    "    print(f\"That is Victor's favorite color, {color}.\")\n",
    "elif color == \"red\" :\n",
    "    print(f\"That is Amanda's favorite color, {color}.\")\n",
    "elif color == \"green\" :\n",
    "    print(f\"That is Deunan's favorite color, {color}.\")\n",
    "elif color == \"blue\" :\n",
    "    print(f\"That is Sam's favorite color, {color}.\")\n",
    "else :\n",
    "    print(f\"{color.capitalize()} is not a favorited color\")"
   ]
  },
  {
   "cell_type": "markdown",
   "metadata": {},
   "source": [
    "Exercise 7. Ask for an exam score and store that number. If the number is greater than 100, then print out 'You cannot have an exam score higher than 100'. If the number doesn't exceeed 100 but is greater than or equal to 75, then print out 'You did great on your exam!'. Otherwise if they scored lower than 75, then print out 'You need to study harder'."
   ]
  },
  {
   "cell_type": "code",
   "execution_count": 92,
   "metadata": {},
   "outputs": [
    {
     "name": "stdout",
     "output_type": "stream",
     "text": [
      "Please input the exame score: -5\n",
      "You cannot have an exam score lower than 0\n"
     ]
    }
   ],
   "source": [
    "score = int(input(\"Please input the exame score: \"))\n",
    "\n",
    "if score > 100 :\n",
    "    print(\"You cannot have an exam score higher than 100.\")\n",
    "elif score < 0 :\n",
    "    print(\"You cannot have an exam score lower than 0\")\n",
    "elif score <= 100 and score >= 75 :\n",
    "    print(\"You did great on your exam!\")\n",
    "else :\n",
    "    print(f\"You need to study harder.\")"
   ]
  },
  {
   "cell_type": "markdown",
   "metadata": {},
   "source": [
    "Exercise 8. \n",
    "Define two functions: \n",
    "    - a function that takes 3 arguements and returns the sum of three arguements\n",
    "    - a function that takes 2 arguements and returns the result of 1st arguement multiplied by 2nd arguement\n",
    "\n",
    "Then tell the user to choose option 1 to add three numbers or option 2 to multiply two numbers.\n",
    "If the user choose option 1 then call the addition function, otherwise if they choose option 2 then call the mulitplication function.  If the user choose anything other than option 1 or 2, then generate a friendly error messsage"
   ]
  },
  {
   "cell_type": "code",
   "execution_count": 42,
   "metadata": {},
   "outputs": [
    {
     "name": "stdout",
     "output_type": "stream",
     "text": [
      "Please choose one option: (1) add three numbers or (2) multiple 2 numbers: 1\n",
      "Please enter first value: 5\n",
      "Please enter second value: 10\n",
      "Please enter third value: 15\n",
      "5 + 10 + 15 = 30.\n"
     ]
    }
   ],
   "source": [
    "def add_this(param1, param2, param3) :\n",
    "    print(f\"{param1} + {param2} + {param3} = {param1 + param2 + param3}.\")\n",
    "\n",
    "def multiply_this(param1, param2) :\n",
    "    print(f\"{param1} x {param2} = {param1 * param2}.\")\n",
    "\n",
    "choice = int(input(\"Please choose one option: (1) add three numbers or (2) multiple 2 numbers: \"))\n",
    "if choice != 1 and choice != 2 :\n",
    "    print(f\"You entered an invalid choice of {choice}.\")\n",
    "elif choice == 1 :\n",
    "    value1 = int(input(\"Please enter first value: \"))\n",
    "    value2 = int(input(\"Please enter second value: \"))\n",
    "    value3 = int(input(\"Please enter third value: \"))\n",
    "    add_this(value1, value2, value3)\n",
    "else :\n",
    "    value1 = int(input(\"Please enter first value: \"))\n",
    "    value2 = int(input(\"Please enter second value: \"))\n",
    "    multiply_this(value1, value2)"
   ]
  },
  {
   "cell_type": "markdown",
   "metadata": {},
   "source": [
    "Exercise 9. \n",
    "Write a function to convert a test score to a grade where  \n",
    " - 90 - 100: A\n",
    " - 80 - 89:  B\n",
    " - 70 - 79:  C\n",
    " - 60 - 69:  D\n",
    " - < 60   :  F\n",
    " \n",
    "If a score is not between 0 and 100 then print out an error message. In the program, ask the user for a score and then call your function. "
   ]
  },
  {
   "cell_type": "code",
   "execution_count": 87,
   "metadata": {},
   "outputs": [
    {
     "name": "stdout",
     "output_type": "stream",
     "text": [
      "Please input a score value between 0 and 100: 150\n",
      "You cannot have a score outside the range of 0 and 100.\n"
     ]
    }
   ],
   "source": [
    "def letterGrade(score) :\n",
    "    if score < 0 or score > 100 :\n",
    "        print(\"You cannot have a score outside the range of 0 and 100.\")\n",
    "    else :\n",
    "        if score >= 90 :\n",
    "            letter = \"A\"\n",
    "        elif score >= 80 :\n",
    "            letter = \"B\"\n",
    "        elif score >= 70 :\n",
    "            letter = \"C\"\n",
    "        elif score >= 60 :\n",
    "            letter = \"D\"\n",
    "        else :\n",
    "            letter = \"F\"\n",
    "        print(f\"Your score of {score} gives you an \\\"{letter}\\\".\")\n",
    "        \n",
    "def main() : \n",
    "    score = int(input(\"Please input a score value between 0 and 100: \"))\n",
    "    letterGrade(score)\n",
    "    \n",
    "main()"
   ]
  },
  {
   "cell_type": "markdown",
   "metadata": {},
   "source": [
    "Exercise 10. Write a program to compute discounts for customers.  \n",
    "- For retail customers, \n",
    "    - if invoice total is greater than \\$100 then discount rate is 10\\%, otherwise no discount \n",
    "\n",
    "- For wholesale customers,\n",
    "    - if invoice total is greater than \\$500 then discount rate is 30\\%, otherwise discount rate is 20\\%\n",
    "    \n",
    "Get the type of customer and the invoice total from the user."
   ]
  },
  {
   "cell_type": "code",
   "execution_count": 86,
   "metadata": {},
   "outputs": [
    {
     "name": "stdout",
     "output_type": "stream",
     "text": [
      "Computing your customer discount.\n",
      "\n",
      "------------------------------------------------------------\n",
      "Are you a (R)etailer or a (W)holesale customer: d\n",
      "You entered an invalid customer type: D.\n",
      "Please try again.\n",
      "------------------------------------------------------------\n",
      "Are you a (R)etailer or a (W)holesale customer: i\n",
      "You entered an invalid customer type: I.\n",
      "Please try again.\n",
      "------------------------------------------------------------\n",
      "Are you a (R)etailer or a (W)holesale customer: r\n",
      "How much was your invoice total? 1500\n",
      "\n",
      "Invoice total:\t\t$1,500.00\n",
      "Discount (10%):\t\t$150.00\n",
      "\n",
      "Final invoice total:\t$1,350.00\n"
     ]
    }
   ],
   "source": [
    "def getDiscPct(type, amount) :\n",
    "    if type == \"r\" :\n",
    "        if amount > 100 :\n",
    "            discount = 10\n",
    "        else :\n",
    "            discount = 0\n",
    "    else :\n",
    "        if amount > 500 :\n",
    "            discount = 30\n",
    "        else :\n",
    "            discount = 20    \n",
    "    return discount\n",
    "\n",
    "def discountTotal(amount, discount) :\n",
    "    disc_amount = round((amount * discount/100), 2)\n",
    "    return disc_amount\n",
    "\n",
    "def printOutput(inv_total, discount, disc_total) :\n",
    "    total = inv_total - disc_total    \n",
    "    print(f\"\\nInvoice total:\\t\\t${inv_total:,.2f}\")\n",
    "    print(f\"Discount ({discount}%):\\t\\t${disc_total:,.2f}\\n\")\n",
    "    print(f\"Final invoice total:\\t${inv_total - disc_total:,.2f}\")\n",
    "\n",
    "def main() :\n",
    "    print(\"Computing your customer discount.\\n\")\n",
    "    result = False\n",
    "    while not result :\n",
    "        print(\"-\" * 60)\n",
    "        customer = input(\"Are you a (R)etailer or a (W)holesale customer: \").lower()\n",
    "\n",
    "        if customer != \"w\" and customer != \"r\" :\n",
    "            print(f\"You entered an invalid customer type: {customer.upper()}.\")\n",
    "            print(\"Please try again.\")\n",
    "        else :\n",
    "            inv_total = float(input(\"How much was your invoice total? \"))\n",
    "            disc_pct = getDiscPct(customer, inv_total)\n",
    "\n",
    "            discount_amount = discountTotal(inv_total, disc_pct)\n",
    "            printOutput(inv_total, disc_pct, discount_amount)\n",
    "            result = True\n",
    "        \n",
    "main()"
   ]
  },
  {
   "cell_type": "code",
   "execution_count": null,
   "metadata": {},
   "outputs": [],
   "source": []
  }
 ],
 "metadata": {
  "kernelspec": {
   "display_name": "Python 3",
   "language": "python",
   "name": "python3"
  },
  "language_info": {
   "codemirror_mode": {
    "name": "ipython",
    "version": 3
   },
   "file_extension": ".py",
   "mimetype": "text/x-python",
   "name": "python",
   "nbconvert_exporter": "python",
   "pygments_lexer": "ipython3",
   "version": "3.8.3"
  }
 },
 "nbformat": 4,
 "nbformat_minor": 4
}
